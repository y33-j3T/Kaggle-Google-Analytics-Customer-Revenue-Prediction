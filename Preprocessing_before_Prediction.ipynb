{
 "cells": [
  {
   "cell_type": "code",
   "execution_count": 1,
   "metadata": {},
   "outputs": [],
   "source": [
    "import os\n",
    "import json\n",
    "from pandas.io.json import json_normalize\n",
    "from sklearn.ensemble import RandomForestClassifier, RandomForestRegressor\n",
    "\n",
    "import pandas as pd \n",
    "import numpy as np\n",
    "import matplotlib.pyplot as plt\n",
    "import seaborn as sns \n",
    "\n",
    "import warnings\n",
    "# current version of seaborn generates a bunch of warnings that we'll ignore\n",
    "warnings.filterwarnings('ignore')\n",
    "sns.set_style('whitegrid')\n",
    "\n",
    "import gc\n",
    "import datetime\n",
    "\n",
    "from sklearn.preprocessing import LabelEncoder\n",
    "\n",
    "%matplotlib inline\n",
    "color = sns.color_palette()"
   ]
  },
  {
   "cell_type": "markdown",
   "metadata": {},
   "source": [
    "Loading data"
   ]
  },
  {
   "cell_type": "code",
   "execution_count": 2,
   "metadata": {},
   "outputs": [],
   "source": [
    "df_train = pd.read_csv('input/train-flattened.csv',\n",
    "                       dtype={'fullVisitorId': np.str})  # MUST change the fullVisitorId to string format (REQUIRED!)\n",
    "df_test = pd.read_csv('input/test-flattened.csv',\n",
    "                       dtype={'fullVisitorId': np.str})"
   ]
  },
  {
   "cell_type": "code",
   "execution_count": 3,
   "metadata": {},
   "outputs": [],
   "source": [
    "# replace NaN with zero for column - totals.transactionRevenue  (only do this for training data)\n",
    "df_train['totals.transactionRevenue'].fillna(0, inplace=True)\n",
    "\n",
    "const_cols = [c for c in df_train.columns if df_train[c].nunique(dropna=False)==1 ]\n",
    "\n",
    "df_train_clean = df_train.drop(const_cols, axis=1)\n",
    "df_test_clean = df_test.drop(const_cols, axis=1)\n",
    "\n",
    "# Drop useless features\n",
    "df_train_clean.drop(['sessionId', \"trafficSource.campaignCode\"], axis=1, inplace=True)\n",
    "df_test_clean.drop(['sessionId'], axis=1, inplace=True)\n"
   ]
  },
  {
   "cell_type": "markdown",
   "metadata": {},
   "source": [
    "Preprocessing for categorical features"
   ]
  },
  {
   "cell_type": "code",
   "execution_count": 4,
   "metadata": {},
   "outputs": [],
   "source": [
    "# specify which categorical variables to replace NaN (and label encoding for later)\n",
    "cat_cols = [\"channelGrouping\", \"device.browser\", \n",
    "            \"device.deviceCategory\", \"device.operatingSystem\", \n",
    "            \"geoNetwork.city\", \"geoNetwork.continent\", \n",
    "            \"geoNetwork.country\", \"geoNetwork.metro\",\n",
    "            \"geoNetwork.networkDomain\", \"geoNetwork.region\", \n",
    "            \"geoNetwork.subContinent\", \"trafficSource.adContent\", \n",
    "            \"trafficSource.adwordsClickInfo.adNetworkType\", \n",
    "            \"trafficSource.adwordsClickInfo.gclId\", \n",
    "            \"trafficSource.adwordsClickInfo.page\", \n",
    "            \"trafficSource.adwordsClickInfo.slot\", \"trafficSource.campaign\",\n",
    "            \"trafficSource.keyword\", \"trafficSource.medium\", \n",
    "            \"trafficSource.referralPath\", \"trafficSource.source\",\n",
    "            'trafficSource.adwordsClickInfo.isVideoAd', 'trafficSource.isTrueDirect']\n",
    "\n",
    "for col in cat_cols:    \n",
    "    # Replace NaN with 'missing'\n",
    "    df_train_clean[col] = df_train_clean[col].fillna('missing')\n",
    "    df_test_clean[col] = df_test_clean[col].fillna('missing')"
   ]
  },
  {
   "cell_type": "code",
   "execution_count": 5,
   "metadata": {},
   "outputs": [],
   "source": [
    "def clean_small_cap(df):\n",
    "    for col in cat_cols:\n",
    "        #print('Different elements in the feature:', df_train_clean[col].unique())\n",
    "        before = df[col].unique()\n",
    "        cleaned = np.unique([str(x).lower() for x in df[col]])\n",
    "\n",
    "        if len(before) == len(cleaned):\n",
    "            # There is no small/capital letter issue:\n",
    "            print(\"no issue with {}\".format(col))\n",
    "        else:\n",
    "            print(\"THERE ISSSSS with {}\".format(col))\n",
    "            df[col] = [x.lower() for x in df[col]]\n",
    "\n",
    "        "
   ]
  },
  {
   "cell_type": "code",
   "execution_count": 6,
   "metadata": {},
   "outputs": [
    {
     "name": "stdout",
     "output_type": "stream",
     "text": [
      "no issue with channelGrouping\n",
      "no issue with device.browser\n",
      "no issue with device.deviceCategory\n",
      "no issue with device.operatingSystem\n",
      "no issue with geoNetwork.city\n",
      "no issue with geoNetwork.continent\n",
      "no issue with geoNetwork.country\n",
      "no issue with geoNetwork.metro\n",
      "no issue with geoNetwork.networkDomain\n",
      "no issue with geoNetwork.region\n",
      "no issue with geoNetwork.subContinent\n",
      "THERE ISSSSS with trafficSource.adContent\n",
      "no issue with trafficSource.adwordsClickInfo.adNetworkType\n",
      "no issue with trafficSource.adwordsClickInfo.gclId\n",
      "no issue with trafficSource.adwordsClickInfo.page\n",
      "no issue with trafficSource.adwordsClickInfo.slot\n",
      "no issue with trafficSource.campaign\n",
      "THERE ISSSSS with trafficSource.keyword\n",
      "no issue with trafficSource.medium\n",
      "THERE ISSSSS with trafficSource.referralPath\n",
      "no issue with trafficSource.source\n",
      "no issue with trafficSource.adwordsClickInfo.isVideoAd\n",
      "no issue with trafficSource.isTrueDirect\n"
     ]
    }
   ],
   "source": [
    "clean_small_cap(df_train_clean)"
   ]
  },
  {
   "cell_type": "code",
   "execution_count": 7,
   "metadata": {},
   "outputs": [
    {
     "name": "stdout",
     "output_type": "stream",
     "text": [
      "no issue with channelGrouping\n",
      "no issue with device.browser\n",
      "no issue with device.deviceCategory\n",
      "no issue with device.operatingSystem\n",
      "no issue with geoNetwork.city\n",
      "no issue with geoNetwork.continent\n",
      "no issue with geoNetwork.country\n",
      "no issue with geoNetwork.metro\n",
      "no issue with geoNetwork.networkDomain\n",
      "no issue with geoNetwork.region\n",
      "no issue with geoNetwork.subContinent\n",
      "THERE ISSSSS with trafficSource.adContent\n",
      "no issue with trafficSource.adwordsClickInfo.adNetworkType\n",
      "no issue with trafficSource.adwordsClickInfo.gclId\n",
      "no issue with trafficSource.adwordsClickInfo.page\n",
      "no issue with trafficSource.adwordsClickInfo.slot\n",
      "no issue with trafficSource.campaign\n",
      "THERE ISSSSS with trafficSource.keyword\n",
      "no issue with trafficSource.medium\n",
      "THERE ISSSSS with trafficSource.referralPath\n",
      "no issue with trafficSource.source\n",
      "no issue with trafficSource.adwordsClickInfo.isVideoAd\n",
      "no issue with trafficSource.isTrueDirect\n"
     ]
    }
   ],
   "source": [
    "clean_small_cap(df_test_clean)"
   ]
  },
  {
   "cell_type": "code",
   "execution_count": 8,
   "metadata": {},
   "outputs": [
    {
     "data": {
      "text/html": [
       "<div>\n",
       "<style scoped>\n",
       "    .dataframe tbody tr th:only-of-type {\n",
       "        vertical-align: middle;\n",
       "    }\n",
       "\n",
       "    .dataframe tbody tr th {\n",
       "        vertical-align: top;\n",
       "    }\n",
       "\n",
       "    .dataframe thead th {\n",
       "        text-align: right;\n",
       "    }\n",
       "</style>\n",
       "<table border=\"1\" class=\"dataframe\">\n",
       "  <thead>\n",
       "    <tr style=\"text-align: right;\">\n",
       "      <th></th>\n",
       "      <th>date</th>\n",
       "      <th>visitId</th>\n",
       "      <th>visitNumber</th>\n",
       "      <th>visitStartTime</th>\n",
       "      <th>device.isMobile</th>\n",
       "      <th>totals.bounces</th>\n",
       "      <th>totals.hits</th>\n",
       "      <th>totals.newVisits</th>\n",
       "      <th>totals.pageviews</th>\n",
       "      <th>totals.transactionRevenue</th>\n",
       "    </tr>\n",
       "  </thead>\n",
       "  <tbody>\n",
       "    <tr>\n",
       "      <th>date</th>\n",
       "      <td>1.000000</td>\n",
       "      <td>0.880936</td>\n",
       "      <td>0.007536</td>\n",
       "      <td>0.880936</td>\n",
       "      <td>0.146148</td>\n",
       "      <td>NaN</td>\n",
       "      <td>-0.018395</td>\n",
       "      <td>NaN</td>\n",
       "      <td>-0.012146</td>\n",
       "      <td>0.003188</td>\n",
       "    </tr>\n",
       "    <tr>\n",
       "      <th>visitId</th>\n",
       "      <td>0.880936</td>\n",
       "      <td>1.000000</td>\n",
       "      <td>0.002069</td>\n",
       "      <td>1.000000</td>\n",
       "      <td>0.144332</td>\n",
       "      <td>NaN</td>\n",
       "      <td>-0.027701</td>\n",
       "      <td>NaN</td>\n",
       "      <td>-0.022259</td>\n",
       "      <td>0.002724</td>\n",
       "    </tr>\n",
       "    <tr>\n",
       "      <th>visitNumber</th>\n",
       "      <td>0.007536</td>\n",
       "      <td>0.002069</td>\n",
       "      <td>1.000000</td>\n",
       "      <td>0.002069</td>\n",
       "      <td>-0.037667</td>\n",
       "      <td>NaN</td>\n",
       "      <td>0.041317</td>\n",
       "      <td>NaN</td>\n",
       "      <td>0.043363</td>\n",
       "      <td>0.051366</td>\n",
       "    </tr>\n",
       "    <tr>\n",
       "      <th>visitStartTime</th>\n",
       "      <td>0.880936</td>\n",
       "      <td>1.000000</td>\n",
       "      <td>0.002069</td>\n",
       "      <td>1.000000</td>\n",
       "      <td>0.144332</td>\n",
       "      <td>NaN</td>\n",
       "      <td>-0.027701</td>\n",
       "      <td>NaN</td>\n",
       "      <td>-0.022259</td>\n",
       "      <td>0.002724</td>\n",
       "    </tr>\n",
       "    <tr>\n",
       "      <th>device.isMobile</th>\n",
       "      <td>0.146148</td>\n",
       "      <td>0.144332</td>\n",
       "      <td>-0.037667</td>\n",
       "      <td>0.144332</td>\n",
       "      <td>1.000000</td>\n",
       "      <td>NaN</td>\n",
       "      <td>-0.030367</td>\n",
       "      <td>NaN</td>\n",
       "      <td>-0.030199</td>\n",
       "      <td>-0.016555</td>\n",
       "    </tr>\n",
       "    <tr>\n",
       "      <th>totals.bounces</th>\n",
       "      <td>NaN</td>\n",
       "      <td>NaN</td>\n",
       "      <td>NaN</td>\n",
       "      <td>NaN</td>\n",
       "      <td>NaN</td>\n",
       "      <td>NaN</td>\n",
       "      <td>NaN</td>\n",
       "      <td>NaN</td>\n",
       "      <td>NaN</td>\n",
       "      <td>NaN</td>\n",
       "    </tr>\n",
       "    <tr>\n",
       "      <th>totals.hits</th>\n",
       "      <td>-0.018395</td>\n",
       "      <td>-0.027701</td>\n",
       "      <td>0.041317</td>\n",
       "      <td>-0.027701</td>\n",
       "      <td>-0.030367</td>\n",
       "      <td>NaN</td>\n",
       "      <td>1.000000</td>\n",
       "      <td>NaN</td>\n",
       "      <td>0.983205</td>\n",
       "      <td>0.154333</td>\n",
       "    </tr>\n",
       "    <tr>\n",
       "      <th>totals.newVisits</th>\n",
       "      <td>NaN</td>\n",
       "      <td>NaN</td>\n",
       "      <td>NaN</td>\n",
       "      <td>NaN</td>\n",
       "      <td>NaN</td>\n",
       "      <td>NaN</td>\n",
       "      <td>NaN</td>\n",
       "      <td>NaN</td>\n",
       "      <td>NaN</td>\n",
       "      <td>NaN</td>\n",
       "    </tr>\n",
       "    <tr>\n",
       "      <th>totals.pageviews</th>\n",
       "      <td>-0.012146</td>\n",
       "      <td>-0.022259</td>\n",
       "      <td>0.043363</td>\n",
       "      <td>-0.022259</td>\n",
       "      <td>-0.030199</td>\n",
       "      <td>NaN</td>\n",
       "      <td>0.983205</td>\n",
       "      <td>NaN</td>\n",
       "      <td>1.000000</td>\n",
       "      <td>0.155590</td>\n",
       "    </tr>\n",
       "    <tr>\n",
       "      <th>totals.transactionRevenue</th>\n",
       "      <td>0.003188</td>\n",
       "      <td>0.002724</td>\n",
       "      <td>0.051366</td>\n",
       "      <td>0.002724</td>\n",
       "      <td>-0.016555</td>\n",
       "      <td>NaN</td>\n",
       "      <td>0.154333</td>\n",
       "      <td>NaN</td>\n",
       "      <td>0.155590</td>\n",
       "      <td>1.000000</td>\n",
       "    </tr>\n",
       "  </tbody>\n",
       "</table>\n",
       "</div>"
      ],
      "text/plain": [
       "                               date   visitId  visitNumber  visitStartTime  \\\n",
       "date                       1.000000  0.880936     0.007536        0.880936   \n",
       "visitId                    0.880936  1.000000     0.002069        1.000000   \n",
       "visitNumber                0.007536  0.002069     1.000000        0.002069   \n",
       "visitStartTime             0.880936  1.000000     0.002069        1.000000   \n",
       "device.isMobile            0.146148  0.144332    -0.037667        0.144332   \n",
       "totals.bounces                  NaN       NaN          NaN             NaN   \n",
       "totals.hits               -0.018395 -0.027701     0.041317       -0.027701   \n",
       "totals.newVisits                NaN       NaN          NaN             NaN   \n",
       "totals.pageviews          -0.012146 -0.022259     0.043363       -0.022259   \n",
       "totals.transactionRevenue  0.003188  0.002724     0.051366        0.002724   \n",
       "\n",
       "                           device.isMobile  totals.bounces  totals.hits  \\\n",
       "date                              0.146148             NaN    -0.018395   \n",
       "visitId                           0.144332             NaN    -0.027701   \n",
       "visitNumber                      -0.037667             NaN     0.041317   \n",
       "visitStartTime                    0.144332             NaN    -0.027701   \n",
       "device.isMobile                   1.000000             NaN    -0.030367   \n",
       "totals.bounces                         NaN             NaN          NaN   \n",
       "totals.hits                      -0.030367             NaN     1.000000   \n",
       "totals.newVisits                       NaN             NaN          NaN   \n",
       "totals.pageviews                 -0.030199             NaN     0.983205   \n",
       "totals.transactionRevenue        -0.016555             NaN     0.154333   \n",
       "\n",
       "                           totals.newVisits  totals.pageviews  \\\n",
       "date                                    NaN         -0.012146   \n",
       "visitId                                 NaN         -0.022259   \n",
       "visitNumber                             NaN          0.043363   \n",
       "visitStartTime                          NaN         -0.022259   \n",
       "device.isMobile                         NaN         -0.030199   \n",
       "totals.bounces                          NaN               NaN   \n",
       "totals.hits                             NaN          0.983205   \n",
       "totals.newVisits                        NaN               NaN   \n",
       "totals.pageviews                        NaN          1.000000   \n",
       "totals.transactionRevenue               NaN          0.155590   \n",
       "\n",
       "                           totals.transactionRevenue  \n",
       "date                                        0.003188  \n",
       "visitId                                     0.002724  \n",
       "visitNumber                                 0.051366  \n",
       "visitStartTime                              0.002724  \n",
       "device.isMobile                            -0.016555  \n",
       "totals.bounces                                   NaN  \n",
       "totals.hits                                 0.154333  \n",
       "totals.newVisits                                 NaN  \n",
       "totals.pageviews                            0.155590  \n",
       "totals.transactionRevenue                   1.000000  "
      ]
     },
     "execution_count": 8,
     "metadata": {},
     "output_type": "execute_result"
    }
   ],
   "source": [
    "df_train_clean.corr()"
   ]
  },
  {
   "cell_type": "code",
   "execution_count": null,
   "metadata": {},
   "outputs": [],
   "source": []
  },
  {
   "cell_type": "code",
   "execution_count": null,
   "metadata": {},
   "outputs": [],
   "source": []
  },
  {
   "cell_type": "markdown",
   "metadata": {},
   "source": [
    "Preprocessing for numerical features"
   ]
  },
  {
   "cell_type": "code",
   "execution_count": 10,
   "metadata": {},
   "outputs": [],
   "source": [
    "# specify which numerical variables to replace NaN\n",
    "num_cols = [\"totals.hits\", \"totals.pageviews\", \"visitNumber\", \"visitStartTime\", 'totals.bounces',  'totals.newVisits']    \n",
    "for col in num_cols:\n",
    "    \n",
    "    # convert numerical variables to float\n",
    "    # Replace NaN with 0\n",
    "    df_train_clean[col] = df_train_clean[col].astype('float').fillna(0)\n",
    "    df_test_clean[col] = df_test_clean[col].astype('float').fillna(0)"
   ]
  },
  {
   "cell_type": "markdown",
   "metadata": {},
   "source": [
    "Preprocessing for other type of features (Boolean value, dates)"
   ]
  },
  {
   "cell_type": "code",
   "execution_count": 9,
   "metadata": {},
   "outputs": [],
   "source": [
    "df_train_clean['device.isMobile'] = df_train_clean['device.isMobile'].astype(int)\n",
    "df_test_clean['device.isMobile'] = df_test_clean['device.isMobile'].astype(int)\n",
    "\n",
    "# change int format to string format for the column - date\n",
    "df_train_clean['date'] = df_train_clean['date'].astype(str)\n",
    "df_test_clean['date'] = df_test_clean['date'].astype(str)\n",
    "\n",
    "# add a new column - yearmonth\n",
    "df_train_clean.insert(loc=2, column='yearmonth', value=df_train_clean['date'].str.slice(start=0, stop=-2))\n",
    "df_test_clean.insert(loc=2, column='yearmonth', value=df_test_clean['date'].str.slice(start=0, stop=-2))\n",
    "\n",
    "df_train_clean['date'] = pd.to_datetime(df_train_clean['date'], format='%Y%m%d')\n",
    "df_test_clean['date'] = pd.to_datetime(df_test_clean['date'], format='%Y%m%d')\n",
    "\n",
    "df_train_clean = df_train_clean.sort_values(by='date', ascending=True)\n",
    "df_test_clean = df_test_clean.sort_values(by='date', ascending=True)\n",
    "\n"
   ]
  },
  {
   "cell_type": "code",
   "execution_count": 11,
   "metadata": {},
   "outputs": [],
   "source": [
    "df_train_clean = df_train_clean.sort_values(by='date', ascending=True)\n",
    "df_test_clean = df_test_clean.sort_values(by='date', ascending=True)\n",
    "\n",
    "# training data\n",
    "df_train_clean.insert(loc=2, column='year', value=df_train_clean.date.dt.year)\n",
    "df_train_clean.insert(loc=3, column='month', value=df_train_clean.date.dt.month)\n",
    "# +1 to make Monday=1.....until Sunday=7\n",
    "df_train_clean.insert(loc=4, column='day', value=(df_train_clean.date.dt.dayofweek)+1)\n",
    "\n",
    "# testing data\n",
    "df_test_clean.insert(loc=2, column='year', value=df_test_clean.date.dt.year)\n",
    "df_test_clean.insert(loc=3, column='month', value=df_test_clean.date.dt.month)\n",
    "# +1 to make Monday=1.....until Sunday=7\n",
    "df_test_clean.insert(loc=4, column='day', value=(df_test_clean.date.dt.dayofweek)+1)\n",
    "\n"
   ]
  },
  {
   "cell_type": "markdown",
   "metadata": {},
   "source": [
    "Label Encoding"
   ]
  },
  {
   "cell_type": "code",
   "execution_count": 12,
   "metadata": {},
   "outputs": [
    {
     "name": "stdout",
     "output_type": "stream",
     "text": [
      "Label encoded: channelGrouping\n",
      "Label encoded: device.browser\n",
      "Label encoded: device.deviceCategory\n",
      "Label encoded: device.operatingSystem\n",
      "Label encoded: geoNetwork.city\n",
      "Label encoded: geoNetwork.continent\n",
      "Label encoded: geoNetwork.country\n",
      "Label encoded: geoNetwork.metro\n",
      "Label encoded: geoNetwork.networkDomain\n",
      "Label encoded: geoNetwork.region\n",
      "Label encoded: geoNetwork.subContinent\n",
      "Label encoded: trafficSource.adContent\n",
      "Label encoded: trafficSource.adwordsClickInfo.adNetworkType\n",
      "Label encoded: trafficSource.adwordsClickInfo.gclId\n",
      "Label encoded: trafficSource.adwordsClickInfo.page\n",
      "Label encoded: trafficSource.adwordsClickInfo.slot\n",
      "Label encoded: trafficSource.campaign\n",
      "Label encoded: trafficSource.keyword\n",
      "Label encoded: trafficSource.medium\n",
      "Label encoded: trafficSource.referralPath\n",
      "Label encoded: trafficSource.source\n",
      "Label encoded: trafficSource.adwordsClickInfo.isVideoAd\n",
      "Label encoded: trafficSource.isTrueDirect\n"
     ]
    }
   ],
   "source": [
    "# reset index after we rearranged the rows based on date\n",
    "df_train_clean.reset_index(drop=True, inplace=True)\n",
    "df_test_clean.reset_index(drop=True, inplace=True)\n",
    "\n",
    "df_train_clean[\"totals.transactionRevenue\"] = df_train_clean[\"totals.transactionRevenue\"].astype('float')\n",
    "\n",
    "# Loop through each categorical column\n",
    "for col in cat_cols:\n",
    "    label_encoder = LabelEncoder()\n",
    "    # use the label encoding based on training and testing data to capture all strings\n",
    "    label_encoder.fit(list(df_train_clean[col].values.astype('str')) + list(df_test_clean[col].values.astype('str')))\n",
    "    df_train_clean[col] = label_encoder.transform(list(df_train_clean[col].values.astype('str')))\n",
    "    df_test_clean[col] = label_encoder.transform(list(df_test_clean[col].values.astype('str')))\n",
    "    print('Label encoded: {}'.format(col))"
   ]
  },
  {
   "cell_type": "markdown",
   "metadata": {},
   "source": [
    "## Data preparation"
   ]
  },
  {
   "cell_type": "code",
   "execution_count": 13,
   "metadata": {},
   "outputs": [],
   "source": [
    "unused_feature = [\n",
    "'totals.transactionRevenue',\n",
    " 'yearmonth',\n",
    " 'date',\n",
    " 'totals.bounces',\n",
    " 'trafficSource.adwordsClickInfo.adNetworkType',\n",
    " 'trafficSource.adwordsClickInfo.slot',\n",
    " 'trafficSource.adwordsClickInfo.page',\n",
    " 'trafficSource.adwordsClickInfo.isVideoAd',\n",
    " 'trafficSource.campaign',\n",
    " 'trafficSource.adContent',\n",
    " 'device.deviceCategory',\n",
    " 'geoNetwork.subContinent',\n",
    " 'year'\n",
    "]"
   ]
  },
  {
   "cell_type": "code",
   "execution_count": 14,
   "metadata": {},
   "outputs": [],
   "source": [
    "train_data = df_train_clean[df_train_clean.columns[~df_train_clean.columns.isin(unused_feature)]]"
   ]
  },
  {
   "cell_type": "code",
   "execution_count": 15,
   "metadata": {},
   "outputs": [
    {
     "data": {
      "text/html": [
       "<div>\n",
       "<style scoped>\n",
       "    .dataframe tbody tr th:only-of-type {\n",
       "        vertical-align: middle;\n",
       "    }\n",
       "\n",
       "    .dataframe tbody tr th {\n",
       "        vertical-align: top;\n",
       "    }\n",
       "\n",
       "    .dataframe thead th {\n",
       "        text-align: right;\n",
       "    }\n",
       "</style>\n",
       "<table border=\"1\" class=\"dataframe\">\n",
       "  <thead>\n",
       "    <tr style=\"text-align: right;\">\n",
       "      <th></th>\n",
       "      <th>channelGrouping</th>\n",
       "      <th>month</th>\n",
       "      <th>day</th>\n",
       "      <th>fullVisitorId</th>\n",
       "      <th>visitId</th>\n",
       "      <th>visitNumber</th>\n",
       "      <th>visitStartTime</th>\n",
       "      <th>device.browser</th>\n",
       "      <th>device.isMobile</th>\n",
       "      <th>device.operatingSystem</th>\n",
       "      <th>...</th>\n",
       "      <th>geoNetwork.region</th>\n",
       "      <th>totals.hits</th>\n",
       "      <th>totals.newVisits</th>\n",
       "      <th>totals.pageviews</th>\n",
       "      <th>trafficSource.adwordsClickInfo.gclId</th>\n",
       "      <th>trafficSource.isTrueDirect</th>\n",
       "      <th>trafficSource.keyword</th>\n",
       "      <th>trafficSource.medium</th>\n",
       "      <th>trafficSource.referralPath</th>\n",
       "      <th>trafficSource.source</th>\n",
       "    </tr>\n",
       "  </thead>\n",
       "  <tbody>\n",
       "    <tr>\n",
       "      <th>0</th>\n",
       "      <td>2</td>\n",
       "      <td>8</td>\n",
       "      <td>1</td>\n",
       "      <td>1492602573213666603</td>\n",
       "      <td>1470044332</td>\n",
       "      <td>1.0</td>\n",
       "      <td>1.470044e+09</td>\n",
       "      <td>35</td>\n",
       "      <td>0</td>\n",
       "      <td>7</td>\n",
       "      <td>...</td>\n",
       "      <td>482</td>\n",
       "      <td>1.0</td>\n",
       "      <td>1.0</td>\n",
       "      <td>1.0</td>\n",
       "      <td>59008</td>\n",
       "      <td>0</td>\n",
       "      <td>2742</td>\n",
       "      <td>0</td>\n",
       "      <td>3192</td>\n",
       "      <td>0</td>\n",
       "    </tr>\n",
       "    <tr>\n",
       "      <th>1</th>\n",
       "      <td>4</td>\n",
       "      <td>8</td>\n",
       "      <td>1</td>\n",
       "      <td>4703900907627844850</td>\n",
       "      <td>1470066190</td>\n",
       "      <td>2.0</td>\n",
       "      <td>1.470066e+09</td>\n",
       "      <td>35</td>\n",
       "      <td>0</td>\n",
       "      <td>20</td>\n",
       "      <td>...</td>\n",
       "      <td>338</td>\n",
       "      <td>1.0</td>\n",
       "      <td>0.0</td>\n",
       "      <td>1.0</td>\n",
       "      <td>59008</td>\n",
       "      <td>1</td>\n",
       "      <td>9</td>\n",
       "      <td>5</td>\n",
       "      <td>3192</td>\n",
       "      <td>208</td>\n",
       "    </tr>\n",
       "    <tr>\n",
       "      <th>2</th>\n",
       "      <td>2</td>\n",
       "      <td>8</td>\n",
       "      <td>1</td>\n",
       "      <td>5408757094730735604</td>\n",
       "      <td>1470039998</td>\n",
       "      <td>1.0</td>\n",
       "      <td>1.470040e+09</td>\n",
       "      <td>35</td>\n",
       "      <td>0</td>\n",
       "      <td>20</td>\n",
       "      <td>...</td>\n",
       "      <td>482</td>\n",
       "      <td>1.0</td>\n",
       "      <td>1.0</td>\n",
       "      <td>1.0</td>\n",
       "      <td>59008</td>\n",
       "      <td>0</td>\n",
       "      <td>2742</td>\n",
       "      <td>0</td>\n",
       "      <td>3192</td>\n",
       "      <td>0</td>\n",
       "    </tr>\n",
       "    <tr>\n",
       "      <th>3</th>\n",
       "      <td>2</td>\n",
       "      <td>8</td>\n",
       "      <td>1</td>\n",
       "      <td>893148638848434176</td>\n",
       "      <td>1470118400</td>\n",
       "      <td>1.0</td>\n",
       "      <td>1.470118e+09</td>\n",
       "      <td>35</td>\n",
       "      <td>0</td>\n",
       "      <td>20</td>\n",
       "      <td>...</td>\n",
       "      <td>482</td>\n",
       "      <td>1.0</td>\n",
       "      <td>1.0</td>\n",
       "      <td>1.0</td>\n",
       "      <td>59008</td>\n",
       "      <td>0</td>\n",
       "      <td>2742</td>\n",
       "      <td>0</td>\n",
       "      <td>3192</td>\n",
       "      <td>0</td>\n",
       "    </tr>\n",
       "    <tr>\n",
       "      <th>4</th>\n",
       "      <td>2</td>\n",
       "      <td>8</td>\n",
       "      <td>1</td>\n",
       "      <td>6449391852916941365</td>\n",
       "      <td>1470075217</td>\n",
       "      <td>1.0</td>\n",
       "      <td>1.470075e+09</td>\n",
       "      <td>72</td>\n",
       "      <td>0</td>\n",
       "      <td>7</td>\n",
       "      <td>...</td>\n",
       "      <td>192</td>\n",
       "      <td>1.0</td>\n",
       "      <td>1.0</td>\n",
       "      <td>1.0</td>\n",
       "      <td>59008</td>\n",
       "      <td>0</td>\n",
       "      <td>2742</td>\n",
       "      <td>0</td>\n",
       "      <td>3192</td>\n",
       "      <td>0</td>\n",
       "    </tr>\n",
       "  </tbody>\n",
       "</table>\n",
       "<p>5 rows × 25 columns</p>\n",
       "</div>"
      ],
      "text/plain": [
       "   channelGrouping  month  day        fullVisitorId     visitId  visitNumber  \\\n",
       "0                2      8    1  1492602573213666603  1470044332          1.0   \n",
       "1                4      8    1  4703900907627844850  1470066190          2.0   \n",
       "2                2      8    1  5408757094730735604  1470039998          1.0   \n",
       "3                2      8    1   893148638848434176  1470118400          1.0   \n",
       "4                2      8    1  6449391852916941365  1470075217          1.0   \n",
       "\n",
       "   visitStartTime  device.browser  device.isMobile  device.operatingSystem  \\\n",
       "0    1.470044e+09              35                0                       7   \n",
       "1    1.470066e+09              35                0                      20   \n",
       "2    1.470040e+09              35                0                      20   \n",
       "3    1.470118e+09              35                0                      20   \n",
       "4    1.470075e+09              72                0                       7   \n",
       "\n",
       "           ...           geoNetwork.region  totals.hits  totals.newVisits  \\\n",
       "0          ...                         482          1.0               1.0   \n",
       "1          ...                         338          1.0               0.0   \n",
       "2          ...                         482          1.0               1.0   \n",
       "3          ...                         482          1.0               1.0   \n",
       "4          ...                         192          1.0               1.0   \n",
       "\n",
       "   totals.pageviews  trafficSource.adwordsClickInfo.gclId  \\\n",
       "0               1.0                                 59008   \n",
       "1               1.0                                 59008   \n",
       "2               1.0                                 59008   \n",
       "3               1.0                                 59008   \n",
       "4               1.0                                 59008   \n",
       "\n",
       "   trafficSource.isTrueDirect  trafficSource.keyword  trafficSource.medium  \\\n",
       "0                           0                   2742                     0   \n",
       "1                           1                      9                     5   \n",
       "2                           0                   2742                     0   \n",
       "3                           0                   2742                     0   \n",
       "4                           0                   2742                     0   \n",
       "\n",
       "   trafficSource.referralPath  trafficSource.source  \n",
       "0                        3192                     0  \n",
       "1                        3192                   208  \n",
       "2                        3192                     0  \n",
       "3                        3192                     0  \n",
       "4                        3192                     0  \n",
       "\n",
       "[5 rows x 25 columns]"
      ]
     },
     "execution_count": 15,
     "metadata": {},
     "output_type": "execute_result"
    }
   ],
   "source": [
    "train_data.head()"
   ]
  },
  {
   "cell_type": "code",
   "execution_count": null,
   "metadata": {},
   "outputs": [],
   "source": [
    "from sklearn.metrics import mean_squared_error\n",
    "from sklearn.model_selection import TimeSeriesSplit\n",
    "\n",
    "# Helper function\n",
    "def train_valid_split_wrt_time(data, feature_column, percent_valid = 0.1):\n",
    "    last_indi_train = int(np.floor(data.shape[0]*(1-percent_valid)))\n",
    "    x_train, x_valid = data[feature_column].iloc[0:last_indi_train], \\\n",
    "                    data[feature_column].iloc[last_indi_train:]\n",
    "        \n",
    "    y_train, y_valid = data['totals.transactionRevenue'].iloc[0:last_indi_train], \\\n",
    "                    data['totals.transactionRevenue'].iloc[last_indi_train:]\n",
    "        \n",
    "    return x_train, x_valid, y_train, y_valid \n",
    "\n",
    "def timeseries_cv(X, Y, model, cv=5):\n",
    "    mse=[]\n",
    "    tscv = TimeSeriesSplit(n_splits=cv)\n",
    "    for train_index, test_index in tscv.split(X): \n",
    "        X_train, X_test = X.iloc[train_index] , X.iloc[test_index]\n",
    "        Y_train, Y_test = Y.iloc[train_index] , Y.iloc[test_index]\n",
    "        clf4_rf = model\n",
    "        clf4_rf.fit(X_train,Y_train)\n",
    "        \n",
    "        X_test['totals.transactionRevenue_predicted'] = clf4_rf.predict(X_test)\n",
    "        \n",
    "        X_test_pred = X_test[['fullVisitorId','totals.transactionRevenue_predicted']]\n",
    "        X_test_pred['totals.transactionRevenue'] = Y_test\n",
    "        \n",
    "        X_test_pred = X_test_pred.groupby('fullVisitorId').agg({'totals.transactionRevenue_predicted':'sum',\n",
    "                                                               'totals.transactionRevenue':'sum'}).reset_index()\n",
    "    \n",
    "        \n",
    "        error = np.sqrt(mean_squared_error(X_test_pred['totals.transactionRevenue'].apply(lambda x: np.log1p(x)),\n",
    "                                           X_test_pred['totals.transactionRevenue_predicted'].apply(lambda x: np.log1p(x))))\n",
    "        print('Error: {}'.format(error))\n",
    "        mse.append(error)\n",
    "    \n",
    "    return np.mean(mse)\n",
    "        "
   ]
  },
  {
   "cell_type": "markdown",
   "metadata": {},
   "source": [
    "===TESTING==="
   ]
  },
  {
   "cell_type": "markdown",
   "metadata": {},
   "source": [
    "## Try LGBM\n",
    "#### For installation of lightgbm \n",
    "#### https://lightgbm.readthedocs.io/en/latest/Installation-Guide.html#macos\n",
    "#### https://github.com/Microsoft/LightGBM/issues/1456"
   ]
  },
  {
   "cell_type": "code",
   "execution_count": null,
   "metadata": {},
   "outputs": [],
   "source": [
    "df_train_clean.columns"
   ]
  },
  {
   "cell_type": "code",
   "execution_count": null,
   "metadata": {},
   "outputs": [],
   "source": [
    "df_train_clean_grp = df_train_clean.groupby(\n",
    "    [\"fullVisitorId\"]\n",
    "    ).agg({'totals.transactionRevenue':'sum', 'visitNumber':'sum', 'totals.pageviews':'sum', \n",
    "           'totals.hits':'sum'})"
   ]
  },
  {
   "cell_type": "code",
   "execution_count": 16,
   "metadata": {},
   "outputs": [
    {
     "ename": "NameError",
     "evalue": "name 'df_train_clean_grp' is not defined",
     "output_type": "error",
     "traceback": [
      "\u001b[1;31m---------------------------------------------------------------------------\u001b[0m",
      "\u001b[1;31mNameError\u001b[0m                                 Traceback (most recent call last)",
      "\u001b[1;32m<ipython-input-16-c4432d458cf3>\u001b[0m in \u001b[0;36m<module>\u001b[1;34m\u001b[0m\n\u001b[1;32m----> 1\u001b[1;33m \u001b[0mdf_train_clean_grp\u001b[0m\u001b[1;33m.\u001b[0m\u001b[0mhead\u001b[0m\u001b[1;33m(\u001b[0m\u001b[1;33m)\u001b[0m\u001b[1;33m\u001b[0m\u001b[0m\n\u001b[0m",
      "\u001b[1;31mNameError\u001b[0m: name 'df_train_clean_grp' is not defined"
     ]
    }
   ],
   "source": [
    "df_train_clean_grp.head()"
   ]
  },
  {
   "cell_type": "code",
   "execution_count": null,
   "metadata": {},
   "outputs": [],
   "source": [
    "df_train_clean_grp['totals.transactionRevenue'] = np.log1p(df_train_clean_grp['totals.transactionRevenue'])"
   ]
  },
  {
   "cell_type": "code",
   "execution_count": null,
   "metadata": {},
   "outputs": [],
   "source": [
    "df_train_clean_grp.head()"
   ]
  },
  {
   "cell_type": "code",
   "execution_count": null,
   "metadata": {},
   "outputs": [],
   "source": [
    "df_test_clean_grp = df_test_clean.groupby(\n",
    "    [\"fullVisitorId\"]\n",
    "    ).agg({'visitNumber':'sum', 'totals.pageviews':'sum', \n",
    "           'totals.hits':'sum', ''})"
   ]
  },
  {
   "cell_type": "code",
   "execution_count": null,
   "metadata": {},
   "outputs": [],
   "source": [
    "df_test_clean_grp.head()"
   ]
  },
  {
   "cell_type": "code",
   "execution_count": null,
   "metadata": {},
   "outputs": [],
   "source": [
    "# Split the train dataset into development and valid based on time\n",
    "feature_column_1 = ['visitNumber', 'totals.pageviews','totals.hits']\n",
    "x_train, x_test, y_train, y_test = train_valid_split_wrt_time(df_train_clean_grp, feature_column_1)\n",
    "\n",
    "\n",
    "# custom function to run light gbm model\n",
    "def run_lgb(train_X, train_y, val_X, val_y, test_X):\n",
    "    params = {\n",
    "        \"objective\" : \"regression\",\n",
    "        \"metric\" : \"rmse\", \n",
    "        \"num_leaves\" : 30,\n",
    "        \"min_child_samples\" : 100,\n",
    "        \"learning_rate\" : 0.1,\n",
    "        \"bagging_fraction\" : 0.7,\n",
    "        \"feature_fraction\" : 0.5,\n",
    "        \"bagging_frequency\" : 5,\n",
    "        \"bagging_seed\" : 2018,\n",
    "        \"verbosity\" : -1\n",
    "    }\n",
    "    \n",
    "    lgtrain = lgb.Dataset(train_X, label=train_y)\n",
    "    lgval = lgb.Dataset(val_X, label=val_y)\n",
    "    model = lgb.train(params, lgtrain, 1000, valid_sets=[lgval], early_stopping_rounds=100, verbose_eval=100)\n",
    "    \n",
    "    pred_test_y = model.predict(test_X, num_iteration=model.best_iteration)\n",
    "    pred_val_y = model.predict(val_X, num_iteration=model.best_iteration)\n",
    "    return pred_test_y, model, pred_val_y\n",
    "\n",
    "# Training the model #\n",
    "pred_test, model, pred_val = run_lgb(x_train, y_train, x_test, y_test, df_test_clean_grp)"
   ]
  },
  {
   "cell_type": "code",
   "execution_count": null,
   "metadata": {},
   "outputs": [],
   "source": [
    "df_test_clean_grp.shape"
   ]
  },
  {
   "cell_type": "code",
   "execution_count": null,
   "metadata": {},
   "outputs": [],
   "source": [
    "len(pred_test)"
   ]
  },
  {
   "cell_type": "code",
   "execution_count": null,
   "metadata": {},
   "outputs": [],
   "source": [
    "df_test_clean_grp['PredictedLogRevenue'] = pred_test"
   ]
  },
  {
   "cell_type": "code",
   "execution_count": null,
   "metadata": {},
   "outputs": [],
   "source": [
    "df_test_clean_grp.shape"
   ]
  },
  {
   "cell_type": "code",
   "execution_count": null,
   "metadata": {},
   "outputs": [],
   "source": [
    "df_test_clean_grp[['PredictedLogRevenue']].to_csv('out_lgbm.csv')"
   ]
  },
  {
   "cell_type": "markdown",
   "metadata": {},
   "source": [
    "===End of TESTING=="
   ]
  },
  {
   "cell_type": "markdown",
   "metadata": {},
   "source": [
    "Recover geoNetwork source"
   ]
  },
  {
   "cell_type": "code",
   "execution_count": null,
   "metadata": {},
   "outputs": [],
   "source": [
    "df_train_clean['geoNetwork.continent'].unique()"
   ]
  },
  {
   "cell_type": "code",
   "execution_count": null,
   "metadata": {},
   "outputs": [],
   "source": [
    "df_train_clean['geoNetwork.subContinent'].unique()[3]"
   ]
  },
  {
   "cell_type": "code",
   "execution_count": null,
   "metadata": {},
   "outputs": [],
   "source": [
    "df_train_clean['geoNetwork.region'].unique()[3]"
   ]
  },
  {
   "cell_type": "code",
   "execution_count": null,
   "metadata": {
    "scrolled": true
   },
   "outputs": [],
   "source": [
    "df_train_clean['geoNetwork.country'].unique()[0]"
   ]
  },
  {
   "cell_type": "code",
   "execution_count": null,
   "metadata": {},
   "outputs": [],
   "source": [
    "df_train_clean['geoNetwork.city'].unique()[3]"
   ]
  },
  {
   "cell_type": "code",
   "execution_count": null,
   "metadata": {
    "scrolled": true
   },
   "outputs": [],
   "source": [
    "df_train_clean['geoNetwork.metro'].unique()[4]"
   ]
  },
  {
   "cell_type": "code",
   "execution_count": null,
   "metadata": {},
   "outputs": [],
   "source": [
    "df_train_clean[df_train_clean['geoNetwork.metro'] == 'Houston TX']['geoNetwork.city'].unique()"
   ]
  },
  {
   "cell_type": "code",
   "execution_count": null,
   "metadata": {},
   "outputs": [],
   "source": [
    "df_train_clean['geoNetwork.networkDomain'].unique()[0]"
   ]
  },
  {
   "cell_type": "code",
   "execution_count": null,
   "metadata": {},
   "outputs": [],
   "source": [
    "df_train_clean.columns"
   ]
  }
 ],
 "metadata": {
  "kernelspec": {
   "display_name": "Python 3",
   "language": "python",
   "name": "python3"
  },
  "language_info": {
   "codemirror_mode": {
    "name": "ipython",
    "version": 3
   },
   "file_extension": ".py",
   "mimetype": "text/x-python",
   "name": "python",
   "nbconvert_exporter": "python",
   "pygments_lexer": "ipython3",
   "version": "3.7.3"
  }
 },
 "nbformat": 4,
 "nbformat_minor": 2
}
